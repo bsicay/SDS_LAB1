{
 "cells": [
  {
   "cell_type": "markdown",
   "metadata": {},
   "source": [
    "## Lab 1 deteccion de Pishing\n",
    "\n",
    "#### Brandon Ronaldo Sicay Cumes - 21757"
   ]
  },
  {
   "cell_type": "code",
   "execution_count": 25,
   "metadata": {},
   "outputs": [],
   "source": [
    "from sklearn.preprocessing import LabelEncoder\n",
    "import datetime\n",
    "import pandas as pd\n",
    "from urllib.parse import urlparse\n",
    "import whois\n",
    "import re\n",
    "import ssl\n",
    "from sklearn.feature_extraction.text import CountVectorizer\n",
    "from sklearn.metrics.pairwise import cosine_similarity\n",
    "import requests\n",
    "from urllib.parse import urlparse, parse_qs\n",
    "import math\n",
    "from ydata_profiling import ProfileReport\n",
    "\n"
   ]
  },
  {
   "cell_type": "markdown",
   "metadata": {},
   "source": [
    "### **Parte 1 – Ingeniería de características**\n",
    "\n",
    "#### Exploración de datos"
   ]
  },
  {
   "cell_type": "markdown",
   "metadata": {},
   "source": [
    "1. Cargue el dataset en un dataframe de pandas, muestre un ejemplo de cinco observaciones"
   ]
  },
  {
   "cell_type": "code",
   "execution_count": 12,
   "metadata": {},
   "outputs": [
    {
     "data": {
      "text/html": [
       "<div>\n",
       "<style scoped>\n",
       "    .dataframe tbody tr th:only-of-type {\n",
       "        vertical-align: middle;\n",
       "    }\n",
       "\n",
       "    .dataframe tbody tr th {\n",
       "        vertical-align: top;\n",
       "    }\n",
       "\n",
       "    .dataframe thead th {\n",
       "        text-align: right;\n",
       "    }\n",
       "</style>\n",
       "<table border=\"1\" class=\"dataframe\">\n",
       "  <thead>\n",
       "    <tr style=\"text-align: right;\">\n",
       "      <th></th>\n",
       "      <th>url</th>\n",
       "      <th>status</th>\n",
       "    </tr>\n",
       "  </thead>\n",
       "  <tbody>\n",
       "    <tr>\n",
       "      <th>0</th>\n",
       "      <td>http://www.crestonwood.com/router.php</td>\n",
       "      <td>legitimate</td>\n",
       "    </tr>\n",
       "    <tr>\n",
       "      <th>1</th>\n",
       "      <td>http://shadetreetechnology.com/V4/validation/a...</td>\n",
       "      <td>phishing</td>\n",
       "    </tr>\n",
       "    <tr>\n",
       "      <th>2</th>\n",
       "      <td>https://support-appleld.com.secureupdate.duila...</td>\n",
       "      <td>phishing</td>\n",
       "    </tr>\n",
       "    <tr>\n",
       "      <th>3</th>\n",
       "      <td>http://rgipt.ac.in</td>\n",
       "      <td>legitimate</td>\n",
       "    </tr>\n",
       "    <tr>\n",
       "      <th>4</th>\n",
       "      <td>http://www.iracing.com/tracks/gateway-motorspo...</td>\n",
       "      <td>legitimate</td>\n",
       "    </tr>\n",
       "  </tbody>\n",
       "</table>\n",
       "</div>"
      ],
      "text/plain": [
       "                                                 url      status\n",
       "0              http://www.crestonwood.com/router.php  legitimate\n",
       "1  http://shadetreetechnology.com/V4/validation/a...    phishing\n",
       "2  https://support-appleld.com.secureupdate.duila...    phishing\n",
       "3                                 http://rgipt.ac.in  legitimate\n",
       "4  http://www.iracing.com/tracks/gateway-motorspo...  legitimate"
      ]
     },
     "execution_count": 12,
     "metadata": {},
     "output_type": "execute_result"
    }
   ],
   "source": [
    "data = pd.read_csv('dataset_pishing.csv')\n",
    "data.head(5)\n"
   ]
  },
  {
   "cell_type": "code",
   "execution_count": 13,
   "metadata": {},
   "outputs": [
    {
     "name": "stdout",
     "output_type": "stream",
     "text": [
      "<class 'pandas.core.frame.DataFrame'>\n",
      "RangeIndex: 11430 entries, 0 to 11429\n",
      "Data columns (total 2 columns):\n",
      " #   Column  Non-Null Count  Dtype \n",
      "---  ------  --------------  ----- \n",
      " 0   url     11430 non-null  object\n",
      " 1   status  11430 non-null  object\n",
      "dtypes: object(2)\n",
      "memory usage: 178.7+ KB\n"
     ]
    }
   ],
   "source": [
    "data.info()\n"
   ]
  },
  {
   "cell_type": "markdown",
   "metadata": {},
   "source": [
    "2. Muestre la cantidad de observaciones etiquetadas en la columna status como “legit” y como\n",
    "“pishing”. ¿Está balanceado el dataset?"
   ]
  },
  {
   "cell_type": "code",
   "execution_count": 14,
   "metadata": {},
   "outputs": [
    {
     "data": {
      "text/plain": [
       "status\n",
       "legitimate    5715\n",
       "phishing      5715\n",
       "Name: count, dtype: int64"
      ]
     },
     "execution_count": 14,
     "metadata": {},
     "output_type": "execute_result"
    }
   ],
   "source": [
    "data['status'].value_counts()\n"
   ]
  },
  {
   "cell_type": "markdown",
   "metadata": {},
   "source": [
    "El dataset sí stá balanceado.\n",
    "\n"
   ]
  },
  {
   "cell_type": "markdown",
   "metadata": {},
   "source": [
    "#### Derivación de características"
   ]
  },
  {
   "cell_type": "markdown",
   "metadata": {},
   "source": [
    "1. ¿Qué ventajas tiene el análisis de una URL contra el análisis de otros datos, cómo el tiempo\n",
    "de vida del dominio, o las características de la página Web?\n",
    "\n",
    "- Extracción: Los features de una URL son fáciles de extraer y analizar, en comparación con otras métricas, comom lo es el tiempo de vida del dominio.\n",
    "- Accesibilidad: Las URLs son públicas y accesibles, lo que nos permite un análisis sin requerir acceso a información privada.\n",
    "- Rapidez: La URL proporciona información directa sobre una dirección web, facilitando la evaluación inmediata de su validez.\n",
    "\n",
    "2. ¿Qué características de una URL son más prometedoras para la detección de phishing?\n",
    "- Shorted URL: Los atacantes usan URLs acortadas para ocultar el destino real del enlace, logrando que los usuarios tengan más dificultal al identificar sitios maliciosos.\n",
    "- HTTPS: Los sitios de phishing a menudo no utilizan HTTPS, o no tienen los certificados implementados de manera correcta.\n",
    "- Direcciones IP puesta en el nombre del dominio: Los atacantes a menudo usan direcciones IP (http://192.168.1.1/...) en lugar de nombres de dominio, ya que dificulta la asociación con una entidad legítima.\n",
    "- Uso de caracteres especiales y patrones aleatorios:La presencia de caracteres inusuales, guiones, números o combinaciones de letras que aumentan la entropía del nombre de dominio o de la ruta puede indicar que la URL fue generada automáticamente. \n",
    "- Coincidencia de marca: La similitud del dominio con nombres de marcas reconocidas (por ejemplo, “micr0soft” en lugar de “microsoft”) o el uso de caracteres visualmente similares. Los atacantes a menudo manipulan letras para que la URL parezca legítima.\n",
    "\n",
    "\n",
    "\n"
   ]
  },
  {
   "cell_type": "markdown",
   "metadata": {},
   "source": [
    "En base a la respuesta anterior escriba al menos quince funciones basadas en los artículos, para\n",
    "derivar características que un modelo pueda utilizar y añada dichas características al dataset original.\n",
    "Incluya dentro de las quince funciones, la entropía de Shanon y relativa."
   ]
  },
  {
   "cell_type": "code",
   "execution_count": 15,
   "metadata": {},
   "outputs": [],
   "source": [
    "def has_random_numeric_strings(url):\n",
    "    pattern = re.compile(r'\\d{5,}')  # sequences of 5 or more digits\n",
    "    matches = re.findall(pattern, url)\n",
    "    return len(matches)\n",
    "\n",
    "def uses_https(url):\n",
    "    parsed_url = urlparse(url)\n",
    "    return 1 if parsed_url.scheme == 'https' else 0\n",
    "\n",
    "def number_letter_ratio_in_path(url):\n",
    "    parsed_url = urlparse(url)\n",
    "    path = parsed_url.path\n",
    "    letters = sum(c.isalpha() for c in path)\n",
    "    numbers = sum(c.isdigit() for c in path)\n",
    "    if numbers == 0: \n",
    "        return 0\n",
    "    return letters / numbers\n",
    "\n",
    "def letter_ratio_in_domain(url):\n",
    "    parsed_url = urlparse(url)\n",
    "    domain = parsed_url.netloc\n",
    "    letters = sum(c.isalpha() for c in domain)\n",
    "    if len(domain) == 0: \n",
    "        return 0\n",
    "    return letters / len(domain)\n",
    "\n",
    "\n",
    "def sensitive_keywords(url):\n",
    "    sensitive_words = [\"login\", \"password\", \"bank\", \"paypal\", \"account\", \"secure\", \"verify\"]\n",
    "    count = sum(url.lower().count(word) for word in sensitive_words)\n",
    "    return count\n",
    "\n",
    "def domain_age(url): \n",
    "    try:\n",
    "        parsed_url = urlparse(url)\n",
    "        domain = parsed_url.netloc\n",
    "        domain_info = whois.whois(domain)\n",
    "\n",
    "        creation_date = domain_info.creation_date\n",
    "\n",
    "        if isinstance(creation_date, list):\n",
    "            creation_date = creation_date[0]\n",
    "        age = (datetime.now() - creation_date).days\n",
    "\n",
    "        return int(age)\n",
    "\n",
    "    except Exception as e:\n",
    "        return 0\n",
    "\n",
    "def count_hyphens_and_underscores(url):\n",
    "    hyphen_count = url.count(\"-\")\n",
    "    underscore_count = url.count(\"_\")\n",
    "    return hyphen_count + underscore_count\n",
    "\n",
    "def check_suspicious_tld(url):\n",
    "    suspicious_tlds = [\".tk\", \".ml\", \".ga\", \".cf\", \".gq\"]  # suspicious TLDs\n",
    "    parsed_url = urlparse(url)\n",
    "    domain = parsed_url.netloc\n",
    "    tld = domain.split(\".\")[-1]\n",
    "\n",
    "    if \".\" + tld in suspicious_tlds:\n",
    "        return 1  \n",
    "    else:\n",
    "        return 0  \n",
    "\n",
    "def url_length(url):\n",
    "    return len(url)\n",
    "\n",
    "def subdomain_count(url):\n",
    "    parsed_url = urlparse(url)\n",
    "    return len(parsed_url.netloc.split('.')) - 2 \n",
    "\n",
    "def vowel_consonant_ratio (x):\n",
    "    x = x.lower()\n",
    "    vowels_pattern = re.compile('([aeiou])')\n",
    "    consonants_pattern = re.compile('([b-df-hj-np-tv-z])')\n",
    "    vowels = re.findall(vowels_pattern, x)\n",
    "    consonants = re.findall(consonants_pattern, x)\n",
    "    try:\n",
    "        ratio = len(vowels) / len(consonants)\n",
    "    except: \n",
    "        ratio = 0\n",
    "    return ratio\n",
    "\n",
    "def count_redirects(url):\n",
    "    response = requests.get(url, allow_redirects=False)\n",
    "    return len(response.history)\n",
    "\n",
    "def extract_path_extensions(url):\n",
    "    parsed_url = urlparse(url)\n",
    "    path = parsed_url.path\n",
    "    return len([part.split('.')[-1] for part in path.split('/') if '.' in part])\n",
    "\n",
    "def count_special_characters(url):\n",
    "    special_character_pattern = re.compile(r'[^a-zA-Z0-9]')\n",
    "    special_characters = re.findall(special_character_pattern, url)\n",
    "    return len(special_characters)\n",
    "\n",
    "def domain_length(url):\n",
    "    parsed_url = urlparse(url)\n",
    "    domain = parsed_url.netloc\n",
    "    return len(domain)"
   ]
  },
  {
   "cell_type": "code",
   "execution_count": 18,
   "metadata": {},
   "outputs": [
    {
     "name": "stdout",
     "output_type": "stream",
     "text": [
      "                                                 url  status  length  \\\n",
      "0              http://www.crestonwood.com/router.php       1      37   \n",
      "1  http://shadetreetechnology.com/V4/validation/a...       0      77   \n",
      "2  https://support-appleld.com.secureupdate.duila...       0     126   \n",
      "3                                 http://rgipt.ac.in       1      18   \n",
      "4  http://www.iracing.com/tracks/gateway-motorspo...       1      55   \n",
      "\n",
      "     vowels  subdomain  paths  https  num_letter_ratio_path  \\\n",
      "0  0.363636          1      1      0               0.000000   \n",
      "1  0.827586          0      0      0               1.588235   \n",
      "2  0.517241          3      0      1               0.888889   \n",
      "3  0.300000          1      0      0               0.000000   \n",
      "4  0.363636          1      0      0               0.000000   \n",
      "\n",
      "   num_letter_ratio_domain  special_char  domain_length  sensitive_keywords  \\\n",
      "0                 0.894737             7             19                   0   \n",
      "1                 0.956522             7             23                   0   \n",
      "2                 0.900000            19             50                   1   \n",
      "3                 0.818182             5             11                   0   \n",
      "4                 0.866667            10             15                   0   \n",
      "\n",
      "   suspicious_tld  rand_numstring  hyphens  domain_age  \n",
      "0               0               0        0           0  \n",
      "1               0               0        0           0  \n",
      "2               0               0        3           0  \n",
      "3               0               0        0           0  \n",
      "4               0               0        2           0  \n"
     ]
    }
   ],
   "source": [
    "data['length'] = data['url'].apply(url_length)\n",
    "data['vowels'] = data['url'].apply(vowel_consonant_ratio)\n",
    "data['subdomain'] = data['url'].apply(subdomain_count)\n",
    "data['paths'] = data['url'].apply(extract_path_extensions)\n",
    "data['https'] = data['url'].apply(uses_https)\n",
    "data['num_letter_ratio_path'] = data['url'].apply(number_letter_ratio_in_path)\n",
    "data['num_letter_ratio_domain'] = data['url'].apply(letter_ratio_in_domain)\n",
    "data['special_char'] = data['url'].apply(count_special_characters)\n",
    "data['domain_length'] = data['url'].apply(domain_length)\n",
    "data['sensitive_keywords'] = data['url'].apply(sensitive_keywords)\n",
    "data['suspicious_tld'] = data['url'].apply(domain_age)\n",
    "data['rand_numstring'] = data['url'].apply(has_random_numeric_strings)\n",
    "data['hyphens'] = data['url'].apply(count_hyphens_and_underscores)\n",
    "data['domain_age'] = data['url'].apply(domain_age)\n",
    "\n",
    "data['status'] = data['status'].replace(to_replace = 'legitimate', value=1)\n",
    "data['status'] = data['status'].replace(to_replace = 'phishing', value=0)\n",
    "\n",
    "print(data.head())"
   ]
  },
  {
   "cell_type": "markdown",
   "metadata": {},
   "source": [
    "#### Preprocesamiento"
   ]
  },
  {
   "cell_type": "code",
   "execution_count": 20,
   "metadata": {},
   "outputs": [
    {
     "data": {
      "text/html": [
       "<div>\n",
       "<style scoped>\n",
       "    .dataframe tbody tr th:only-of-type {\n",
       "        vertical-align: middle;\n",
       "    }\n",
       "\n",
       "    .dataframe tbody tr th {\n",
       "        vertical-align: top;\n",
       "    }\n",
       "\n",
       "    .dataframe thead th {\n",
       "        text-align: right;\n",
       "    }\n",
       "</style>\n",
       "<table border=\"1\" class=\"dataframe\">\n",
       "  <thead>\n",
       "    <tr style=\"text-align: right;\">\n",
       "      <th></th>\n",
       "      <th>status</th>\n",
       "      <th>length</th>\n",
       "      <th>vowels</th>\n",
       "      <th>subdomain</th>\n",
       "      <th>paths</th>\n",
       "      <th>https</th>\n",
       "      <th>num_letter_ratio_path</th>\n",
       "      <th>num_letter_ratio_domain</th>\n",
       "      <th>special_char</th>\n",
       "      <th>domain_length</th>\n",
       "      <th>sensitive_keywords</th>\n",
       "      <th>suspicious_tld</th>\n",
       "      <th>rand_numstring</th>\n",
       "      <th>hyphens</th>\n",
       "      <th>domain_age</th>\n",
       "    </tr>\n",
       "  </thead>\n",
       "  <tbody>\n",
       "    <tr>\n",
       "      <th>0</th>\n",
       "      <td>1</td>\n",
       "      <td>37</td>\n",
       "      <td>0.363636</td>\n",
       "      <td>1</td>\n",
       "      <td>1</td>\n",
       "      <td>0</td>\n",
       "      <td>0.000000</td>\n",
       "      <td>0.894737</td>\n",
       "      <td>7</td>\n",
       "      <td>19</td>\n",
       "      <td>0</td>\n",
       "      <td>0</td>\n",
       "      <td>0</td>\n",
       "      <td>0</td>\n",
       "      <td>0</td>\n",
       "    </tr>\n",
       "    <tr>\n",
       "      <th>1</th>\n",
       "      <td>0</td>\n",
       "      <td>77</td>\n",
       "      <td>0.827586</td>\n",
       "      <td>0</td>\n",
       "      <td>0</td>\n",
       "      <td>0</td>\n",
       "      <td>1.588235</td>\n",
       "      <td>0.956522</td>\n",
       "      <td>7</td>\n",
       "      <td>23</td>\n",
       "      <td>0</td>\n",
       "      <td>0</td>\n",
       "      <td>0</td>\n",
       "      <td>0</td>\n",
       "      <td>0</td>\n",
       "    </tr>\n",
       "    <tr>\n",
       "      <th>2</th>\n",
       "      <td>0</td>\n",
       "      <td>126</td>\n",
       "      <td>0.517241</td>\n",
       "      <td>3</td>\n",
       "      <td>0</td>\n",
       "      <td>1</td>\n",
       "      <td>0.888889</td>\n",
       "      <td>0.900000</td>\n",
       "      <td>19</td>\n",
       "      <td>50</td>\n",
       "      <td>1</td>\n",
       "      <td>0</td>\n",
       "      <td>0</td>\n",
       "      <td>3</td>\n",
       "      <td>0</td>\n",
       "    </tr>\n",
       "    <tr>\n",
       "      <th>3</th>\n",
       "      <td>1</td>\n",
       "      <td>18</td>\n",
       "      <td>0.300000</td>\n",
       "      <td>1</td>\n",
       "      <td>0</td>\n",
       "      <td>0</td>\n",
       "      <td>0.000000</td>\n",
       "      <td>0.818182</td>\n",
       "      <td>5</td>\n",
       "      <td>11</td>\n",
       "      <td>0</td>\n",
       "      <td>0</td>\n",
       "      <td>0</td>\n",
       "      <td>0</td>\n",
       "      <td>0</td>\n",
       "    </tr>\n",
       "    <tr>\n",
       "      <th>4</th>\n",
       "      <td>1</td>\n",
       "      <td>55</td>\n",
       "      <td>0.363636</td>\n",
       "      <td>1</td>\n",
       "      <td>0</td>\n",
       "      <td>0</td>\n",
       "      <td>0.000000</td>\n",
       "      <td>0.866667</td>\n",
       "      <td>10</td>\n",
       "      <td>15</td>\n",
       "      <td>0</td>\n",
       "      <td>0</td>\n",
       "      <td>0</td>\n",
       "      <td>2</td>\n",
       "      <td>0</td>\n",
       "    </tr>\n",
       "  </tbody>\n",
       "</table>\n",
       "</div>"
      ],
      "text/plain": [
       "   status  length    vowels  subdomain  paths  https  num_letter_ratio_path  \\\n",
       "0       1      37  0.363636          1      1      0               0.000000   \n",
       "1       0      77  0.827586          0      0      0               1.588235   \n",
       "2       0     126  0.517241          3      0      1               0.888889   \n",
       "3       1      18  0.300000          1      0      0               0.000000   \n",
       "4       1      55  0.363636          1      0      0               0.000000   \n",
       "\n",
       "   num_letter_ratio_domain  special_char  domain_length  sensitive_keywords  \\\n",
       "0                 0.894737             7             19                   0   \n",
       "1                 0.956522             7             23                   0   \n",
       "2                 0.900000            19             50                   1   \n",
       "3                 0.818182             5             11                   0   \n",
       "4                 0.866667            10             15                   0   \n",
       "\n",
       "   suspicious_tld  rand_numstring  hyphens  domain_age  \n",
       "0               0               0        0           0  \n",
       "1               0               0        0           0  \n",
       "2               0               0        3           0  \n",
       "3               0               0        0           0  \n",
       "4               0               0        2           0  "
      ]
     },
     "execution_count": 20,
     "metadata": {},
     "output_type": "execute_result"
    }
   ],
   "source": [
    "data_final = data\n",
    "data_final = data_final.drop(['url'], axis=1)\n",
    "data_final.to_csv('phishing_features.csv', index=False)\n",
    "data_final.head()"
   ]
  },
  {
   "cell_type": "code",
   "execution_count": 21,
   "metadata": {},
   "outputs": [
    {
     "data": {
      "text/plain": [
       "status                       int64\n",
       "length                       int64\n",
       "vowels                     float64\n",
       "subdomain                    int64\n",
       "paths                        int64\n",
       "https                        int64\n",
       "num_letter_ratio_path      float64\n",
       "num_letter_ratio_domain    float64\n",
       "special_char                 int64\n",
       "domain_length                int64\n",
       "sensitive_keywords           int64\n",
       "suspicious_tld               int64\n",
       "rand_numstring               int64\n",
       "hyphens                      int64\n",
       "domain_age                   int64\n",
       "dtype: object"
      ]
     },
     "execution_count": 21,
     "metadata": {},
     "output_type": "execute_result"
    }
   ],
   "source": [
    "data_final.dtypes\n"
   ]
  },
  {
   "cell_type": "code",
   "execution_count": 22,
   "metadata": {},
   "outputs": [
    {
     "ename": "NameError",
     "evalue": "name 'ProfileReport' is not defined",
     "output_type": "error",
     "traceback": [
      "\u001b[0;31m---------------------------------------------------------------------------\u001b[0m",
      "\u001b[0;31mNameError\u001b[0m                                 Traceback (most recent call last)",
      "Cell \u001b[0;32mIn[22], line 1\u001b[0m\n\u001b[0;32m----> 1\u001b[0m profile \u001b[38;5;241m=\u001b[39m \u001b[43mProfileReport\u001b[49m(data_final, title\u001b[38;5;241m=\u001b[39m\u001b[38;5;124m\"\u001b[39m\u001b[38;5;124mProfiling Report\u001b[39m\u001b[38;5;124m\"\u001b[39m)\n",
      "\u001b[0;31mNameError\u001b[0m: name 'ProfileReport' is not defined"
     ]
    }
   ],
   "source": [
    "profile = ProfileReport(data_final, title=\"Profiling Report\")\n"
   ]
  },
  {
   "cell_type": "markdown",
   "metadata": {},
   "source": [
    "3. ¿Qué columnas o características fueron seleccionadas y por qué?\n",
    "Existen variables con filas repetidas, por lo que serán eliminadas. También se encontró que hay características como DomainAge, rand_numstring y paths que aparentemente muestran características que no se ajustan bien para los modelos. "
   ]
  },
  {
   "cell_type": "markdown",
   "metadata": {},
   "source": [
    "### **Parte 2 – Implementación**\n"
   ]
  },
  {
   "cell_type": "markdown",
   "metadata": {},
   "source": [
    "#### Separación de datos e Implementación"
   ]
  },
  {
   "cell_type": "markdown",
   "metadata": {},
   "source": [
    "##### Modelo 1: RandomForest"
   ]
  },
  {
   "cell_type": "code",
   "execution_count": 31,
   "metadata": {},
   "outputs": [
    {
     "name": "stdout",
     "output_type": "stream",
     "text": [
      "Accuracy: 0.8501457725947522\n",
      "\n",
      "Classification Report:\n",
      "              precision    recall  f1-score   support\n",
      "\n",
      "           0       0.84      0.86      0.85       851\n",
      "           1       0.86      0.84      0.85       864\n",
      "\n",
      "    accuracy                           0.85      1715\n",
      "   macro avg       0.85      0.85      0.85      1715\n",
      "weighted avg       0.85      0.85      0.85      1715\n",
      "\n",
      "Confusion Matrix:\n",
      "[[730 121]\n",
      " [136 728]]\n",
      "\n",
      "Precision: 0.8574793875147232\n",
      "Recall: 0.8425925925925926\n"
     ]
    },
    {
     "data": {
      "image/png": "[encoded data removed]",
      "text/plain": [
       "<Figure size 640x480 with 1 Axes>"
      ]
     },
     "metadata": {},
     "output_type": "display_data"
    }
   ],
   "source": [
    "from sklearn.model_selection import train_test_split\n",
    "from sklearn.ensemble import RandomForestClassifier\n",
    "from sklearn.metrics import accuracy_score, classification_report, confusion_matrix\n",
    "from sklearn.metrics import roc_curve, auc\n",
    "import matplotlib.pyplot as plt\n",
    "\n",
    "\n",
    "X = data_final.drop('status', axis=1)  # Características\n",
    "y = data_final['status']  # Variable objetivo\n",
    "X_train_plus_val, X_test, y_train_plus_val, y_test = train_test_split(X, y, test_size=0.3, random_state=42)\n",
    "X_train, X_val, y_train, y_val = train_test_split(X_train_plus_val, y_train_plus_val, test_size=0.214285714, random_state=42)\n",
    "\n",
    "# Guardar los conjuntos de datos de entrenamiento, validación y prueba en archivos CSV\n",
    "train_data = pd.concat([X_train, y_train], axis=1)\n",
    "val_data = pd.concat([X_val, y_val], axis=1)\n",
    "test_data = pd.concat([X_test, y_test], axis=1)\n",
    "\n",
    "train_data.to_csv('train_data.csv', index=False)\n",
    "val_data.to_csv('val_data.csv', index=False)\n",
    "test_data.to_csv('test_data.csv', index=False)\n",
    "\n",
    "# Creación del modelo\n",
    "rf_model = RandomForestClassifier(n_estimators=300, random_state=42)\n",
    "rf_model.fit(X_train, y_train)\n",
    "y_pred = rf_model.predict(X_val)\n",
    "\n",
    "print(\"Accuracy:\", accuracy_score(y_val, y_pred))\n",
    "print(\"\\nClassification Report:\")\n",
    "print(classification_report(y_val, y_pred))\n",
    "\n",
    "# Matriz de confusión\n",
    "conf_matrix = confusion_matrix(y_val, y_pred)\n",
    "print(\"Confusion Matrix:\")\n",
    "print(conf_matrix)\n",
    "\n",
    "# Precision y Recall\n",
    "precision = conf_matrix[1, 1] / (conf_matrix[1, 1] + conf_matrix[0, 1])\n",
    "recall = conf_matrix[1, 1] / (conf_matrix[1, 1] + conf_matrix[1, 0])\n",
    "print(\"\\nPrecision:\", precision)\n",
    "print(\"Recall:\", recall)\n",
    "\n",
    "# Curva ROC y AUC\n",
    "fpr, tpr, thresholds = roc_curve(y_val, y_pred)\n",
    "roc_auc = auc(fpr, tpr)\n",
    "\n",
    "plt.figure()\n",
    "lw = 2\n",
    "plt.plot(fpr, tpr, color='darkorange', lw=lw, label='ROC curve (area = %0.2f)' % roc_auc)\n",
    "plt.plot([0, 1], [0, 1], color='navy', lw=lw, linestyle='--')\n",
    "plt.xlim([0.0, 1.0])\n",
    "plt.ylim([0.0, 1.05])\n",
    "plt.xlabel('False Positive Rate')\n",
    "plt.ylabel('True Positive Rate')\n",
    "plt.title('Receiver Operating Characteristic')\n",
    "plt.legend(loc=\"lower right\")\n",
    "plt.show()"
   ]
  },
  {
   "cell_type": "code",
   "execution_count": 32,
   "metadata": {},
   "outputs": [
    {
     "name": "stdout",
     "output_type": "stream",
     "text": [
      "\n",
      "Accuracy on Test Set: 0.8530183727034121\n",
      "\n",
      "Classification Report on Test Set:\n",
      "              precision    recall  f1-score   support\n",
      "\n",
      "           0       0.85      0.85      0.85      1697\n",
      "           1       0.85      0.85      0.85      1732\n",
      "\n",
      "    accuracy                           0.85      3429\n",
      "   macro avg       0.85      0.85      0.85      3429\n",
      "weighted avg       0.85      0.85      0.85      3429\n",
      "\n",
      "Confusion Matrix on Test Set:\n",
      "[[1446  251]\n",
      " [ 253 1479]]\n",
      "\n",
      "Precision: 0.8549132947976879\n",
      "Recall: 0.8539260969976905\n"
     ]
    },
    {
     "data": {
      "image/png": "[encoded data removed]",
      "text/plain": [
       "<Figure size 640x480 with 1 Axes>"
      ]
     },
     "metadata": {},
     "output_type": "display_data"
    }
   ],
   "source": [
    "y_pred_test = rf_model.predict(X_test)\n",
    "\n",
    "print(\"\\nAccuracy on Test Set:\", accuracy_score(y_test, y_pred_test))\n",
    "print(\"\\nClassification Report on Test Set:\")\n",
    "print(classification_report(y_test, y_pred_test))\n",
    "\n",
    "# Matriz de confusión\n",
    "conf_matrix = confusion_matrix(y_test, y_pred_test)\n",
    "print(\"Confusion Matrix on Test Set:\")\n",
    "print(conf_matrix)\n",
    "\n",
    "# Precision y Recall\n",
    "precision = conf_matrix[1, 1] / (conf_matrix[1, 1] + conf_matrix[0, 1])\n",
    "recall = conf_matrix[1, 1] / (conf_matrix[1, 1] + conf_matrix[1, 0])\n",
    "print(\"\\nPrecision:\", precision)\n",
    "print(\"Recall:\", recall)\n",
    "\n",
    "# Curva ROC y AUC\n",
    "fpr_t, tpr_t, thresholds_t = roc_curve(y_test, y_pred_test)\n",
    "roc_auc_t = auc(fpr_t, tpr_t)\n",
    "\n",
    "plt.figure()\n",
    "lw = 2\n",
    "plt.plot(fpr_t, tpr_t, color='darkorange', lw=lw, label='ROC curve Test (area = %0.2f)' % roc_auc_t)\n",
    "plt.plot([0, 1], [0, 1], color='navy', lw=lw, linestyle='--')\n",
    "plt.xlim([0.0, 1.0])\n",
    "plt.ylim([0.0, 1.05])\n",
    "plt.xlabel('False Positive Rate')\n",
    "plt.ylabel('True Positive Rate')\n",
    "plt.title('Receiver Operating Characteristic')\n",
    "plt.legend(loc=\"lower right\")\n",
    "plt.show()"
   ]
  },
  {
   "cell_type": "markdown",
   "metadata": {},
   "source": [
    "#### **Resultados**"
   ]
  },
  {
   "cell_type": "markdown",
   "metadata": {},
   "source": [
    "Con un accuracy general de 85.0%, el modelo logra clasificar correctamente el 85.0% de las instancias en el conjunto de prueba. Los valores de precision, recall y f1-score para ambas clases (phishing y legítimo) son similares, rondando el 85%, lo que sugiere un buen equilibrio en la capacidad del modelo para predecir ambas clases de manera precisa. La matriz de confusión revela que los errores de clasificación se distribuyen de forma bastante equilibrada entre las dos clases, con una cantidad similar de falsos positivos y falsos negativos. En resumen, el modelo de clasificación basado en Random Forest muestra un rendimiento general positivo en la detección de sitios web de phishing, aunque podría mejorar en la precisión en algunos casos específicos. Además, se observa que las curvas ROC son prácticamente iguales, lo que es evidente debido a las mínimas variaciones en los decimales de los diferentes sets de prueba, aunque ambas pruebas arrojaron resultados positivos."
   ]
  },
  {
   "cell_type": "markdown",
   "metadata": {},
   "source": [
    "##### Modelo 2: SVM"
   ]
  },
  {
   "cell_type": "code",
   "execution_count": 35,
   "metadata": {},
   "outputs": [
    {
     "name": "stdout",
     "output_type": "stream",
     "text": [
      "Accuracy: 0.7743440233236152\n",
      "\n",
      "Classification Report:\n",
      "              precision    recall  f1-score   support\n",
      "\n",
      "           0       0.83      0.69      0.75       851\n",
      "           1       0.74      0.86      0.79       864\n",
      "\n",
      "    accuracy                           0.77      1715\n",
      "   macro avg       0.78      0.77      0.77      1715\n",
      "weighted avg       0.78      0.77      0.77      1715\n",
      "\n",
      "Confusion Matrix:\n",
      "[[583 268]\n",
      " [119 745]]\n",
      "\n",
      "Precision: 0.7354392892398816\n",
      "Recall: 0.8622685185185185\n"
     ]
    },
    {
     "data": {
      "image/png": "[encoded data removed]",
      "text/plain": [
       "<Figure size 640x480 with 1 Axes>"
      ]
     },
     "metadata": {},
     "output_type": "display_data"
    }
   ],
   "source": [
    "from sklearn.svm import SVC\n",
    "\n",
    "svm_model = SVC(kernel='linear', random_state=42)\n",
    "svm_model.fit(X_train, y_train)\n",
    "y_pred_svm = svm_model.predict(X_val)\n",
    "\n",
    "\n",
    "print(\"Accuracy:\", accuracy_score(y_val, y_pred_svm))\n",
    "print(\"\\nClassification Report:\")\n",
    "print(classification_report(y_val, y_pred_svm))\n",
    "\n",
    "conf_matrix_svm = confusion_matrix(y_val, y_pred_svm)\n",
    "print(\"Confusion Matrix:\")\n",
    "print(conf_matrix_svm)\n",
    "\n",
    "precision_svm = conf_matrix_svm[1, 1] / (conf_matrix_svm[1, 1] + conf_matrix_svm[0, 1])\n",
    "recall_svm = conf_matrix_svm[1, 1] / (conf_matrix_svm[1, 1] + conf_matrix_svm[1, 0])\n",
    "print(\"\\nPrecision:\", precision_svm)\n",
    "print(\"Recall:\", recall_svm)\n",
    "\n",
    "#ROC y AUC\n",
    "fpr_svm, tpr_svm, thresholds_svm = roc_curve(y_val, y_pred_svm)\n",
    "roc_auc_svm = auc(fpr_svm, tpr_svm)\n",
    "\n",
    "plt.figure()\n",
    "lw = 2\n",
    "plt.plot(fpr_svm, tpr_svm, color='darkorange', lw=lw, label='ROC curve (area = %0.2f)' % roc_auc_svm)\n",
    "plt.plot([0, 1], [0, 1], color='navy', lw=lw, linestyle='--')\n",
    "plt.xlim([0.0, 1.0])\n",
    "plt.ylim([0.0, 1.05])\n",
    "plt.xlabel('False Positive Rate')\n",
    "plt.ylabel('True Positive Rate')\n",
    "plt.title('Receiver Operating Characteristic - SVM')\n",
    "plt.legend(loc=\"lower right\")\n",
    "plt.show()"
   ]
  },
  {
   "cell_type": "code",
   "execution_count": 36,
   "metadata": {},
   "outputs": [
    {
     "name": "stdout",
     "output_type": "stream",
     "text": [
      "\n",
      "Accuracy on Test Set: 0.7821522309711286\n",
      "\n",
      "Classification Report on Test Set:\n",
      "              precision    recall  f1-score   support\n",
      "\n",
      "           0       0.83      0.70      0.76      1697\n",
      "           1       0.75      0.86      0.80      1732\n",
      "\n",
      "    accuracy                           0.78      3429\n",
      "   macro avg       0.79      0.78      0.78      3429\n",
      "weighted avg       0.79      0.78      0.78      3429\n",
      "\n",
      "Confusion Matrix on Test Set:\n",
      "[[1186  511]\n",
      " [ 236 1496]]\n",
      "\n",
      "Precision: 0.7453911310413552\n",
      "Recall: 0.8637413394919169\n"
     ]
    },
    {
     "data": {
      "image/png": "[encoded data removed]",
      "text/plain": [
       "<Figure size 640x480 with 1 Axes>"
      ]
     },
     "metadata": {},
     "output_type": "display_data"
    }
   ],
   "source": [
    "y_pred_test_svm = svm_model.predict(X_test)\n",
    "\n",
    "print(\"\\nAccuracy on Test Set:\", accuracy_score(y_test, y_pred_test_svm))\n",
    "print(\"\\nClassification Report on Test Set:\")\n",
    "print(classification_report(y_test, y_pred_test_svm))\n",
    "\n",
    "conf_matrix_test_svm = confusion_matrix(y_test, y_pred_test_svm)\n",
    "print(\"Confusion Matrix on Test Set:\")\n",
    "print(conf_matrix_test_svm)\n",
    "\n",
    "precision_test_svm = conf_matrix_test_svm[1, 1] / (conf_matrix_test_svm[1, 1] + conf_matrix_test_svm[0, 1])\n",
    "recall_test_svm = conf_matrix_test_svm[1, 1] / (conf_matrix_test_svm[1, 1] + conf_matrix_test_svm[1, 0])\n",
    "print(\"\\nPrecision:\", precision_test_svm)\n",
    "print(\"Recall:\", recall_test_svm)\n",
    "\n",
    "# ROC y AUC\n",
    "fpr_test_svm, tpr_test_svm, thresholds_test_svm = roc_curve(y_test, y_pred_test_svm)\n",
    "roc_auc_test_svm = auc(fpr_test_svm, tpr_test_svm)\n",
    "\n",
    "plt.figure()\n",
    "lw = 2\n",
    "plt.plot(fpr_test_svm, tpr_test_svm, color='darkorange', lw=lw, label='ROC curve Test (area = %0.2f)' % roc_auc_test_svm)\n",
    "plt.plot([0, 1], [0, 1], color='navy', lw=lw, linestyle='--')\n",
    "plt.xlim([0.0, 1.0])\n",
    "plt.ylim([0.0, 1.05])\n",
    "plt.xlabel('False Positive Rate')\n",
    "plt.ylabel('True Positive Rate')\n",
    "plt.title('Receiver Operating Characteristic - Test Set (SVM)')\n",
    "plt.legend(loc=\"lower right\")\n",
    "plt.show()"
   ]
  },
  {
   "cell_type": "markdown",
   "metadata": {},
   "source": [
    "#### **Resultados**"
   ]
  },
  {
   "cell_type": "markdown",
   "metadata": {},
   "source": [
    "El modelo SVM demostró un buen rendimiento al clasificar URLs como maliciosas o normales, alcanzando una precisión general de 78.22%. Se destaca por su capacidad para identificar la mayoría de las URLs maliciosas, con un recall del 86%, aunque presenta cierta dificultad al identificar URLs normales, con un recall del 70%. Aunque el modelo mantiene un equilibrio razonable entre precisión y recall, aún podría mejorarse con ajustes adicionales para optimizar la detección de URLs normales sin comprometer la precisión en la clasificación de URLs maliciosas.\n",
    "\n",
    "\n",
    "\n",
    "\n",
    "\n",
    "\n",
    "\n"
   ]
  },
  {
   "cell_type": "markdown",
   "metadata": {},
   "source": [
    "### **Discusión**"
   ]
  },
  {
   "cell_type": "markdown",
   "metadata": {},
   "source": [
    "- ¿Cuál es el impacto de clasificar un sitio legítimo como phishing?\n",
    "Un falso positivo puede tener muchos impactos negativos: \n",
    "    - Afecta la experiencia del usuario: Los usuarios legítimos pueden ser bloqueados o recibir advertencias innecesarias al intentar acceder a sitios confiables.\n",
    "    - Pérdida de productividad: Si se clasifican incorrectamente sitios internos de la empresa como phishing, los empleados pueden perder acceso a recursos importantes.\n",
    "    - Pérdida de credibilidad del sistema: Un modelo con muchos falsos positivos podría generar desconfianza en el equipo de seguridad, haciendo que los usuarios lo ignoren.\n",
    "-  ¿Cuál es el impacto de clasificar un sitio de phishing como legítimo?\n",
    "    - Aumento del riesgo de ataques exitosos: Los usuarios podrían ingresar credenciales o descargar malware creyendo que el sitio es seguro.\n",
    "    - Pérdida de datos y brechas de seguridad: Los atacantes pueden robar información confidencial de la empresa o de los usuarios.\n",
    "    - Impacto financiero: Un ataque exitoso puede generar pérdidas económicas significativas, desde fraudes hasta costos de recuperación de sistemas.\n",
    "    - Pérdida de confianza: Si el modelo no detecta ataques de phishing, los empleados podrían dejar de confiar en la solución de seguridad.    \n",
    "\n",
    "- En base a las respuestas anteriores, ¿Qué métrica elegiría para comparar modelos similares de clasificación de phishing?\n",
    "Dado que los falsos negativos son más peligrosos que los falsos positivos: \n",
    "    - Recall (Sensibilidad o Tasa de Verdaderos Positivos):\n",
    "        - Mide qué porcentaje de los correos o sitios de phishing fueron correctamente detectados.\n",
    "        - Un recall alto significa que la mayoría de los ataques de phishing serán identificados.\n",
    "        - Sin embargo, un recall alto a veces se logra a costa de más falsos positivos.\n",
    "    - Precision (Precisión o Valor Predictivo Positivo):\n",
    "        - Indica cuántos de los sitios que el modelo identificó como phishing realmente lo eran.\n",
    "        - Un precision alto reduce las falsas alarmas, evitando que el equipo de seguridad pierda tiempo en revisiones innecesarias.\n",
    "    - AUC-ROC (Área Bajo la Curva ROC): \n",
    "        - Evalúa la capacidad general del modelo para distinguir entre phishing y sitios legítimos.\n",
    "        - Un AUC cercano a 1.0 indica un modelo excelente.\n",
    "\n",
    "\n",
    "- ¿Qué modelo funcionó mejor para la clasificación de phishing? ¿Por qué?\n",
    "El modelo Support Vector Machine: \n",
    "    - Precisión general del 78.22%\n",
    "    - Recall del 86% para phishing (detectó la mayoría de los sitios maliciosos)\n",
    "    - Recall del 70% para sitios legítimos (algunos sitios normales fueron marcados como phishing)\n",
    "\n",
    "    El SVM funcionó bien en la detección de phishing, pero aún tiene un problema con falsos positivos. Con la finalidad deminimizar los falsos negativosy capturar la mayor cantidad de phishing posible, SVM es una buena opción. Sin embargo, podría mejorarse ajustando hiperparámetros.\n",
    "- Una empresa desea utilizar su mejor modelo, debido a que sus empleados sufren constantes\n",
    "ataques de phishing mediante e-mail. La empresa estima que, de un total de 50,000 emails,\n",
    "un 15% son phishing. ¿Qué cantidad de alarmas generaría su modelo? ¿Cuántas positivas y\n",
    "cuantas negativas? ¿Funciona el modelo para el BR propuesto? En caso negativo, ¿qué\n",
    "propone para reducir la cantidad de falsas alarmas?\n",
    "\n",
    "\n",
    "#### **Cálculo de la cantidad de emails phishing y legítimos**\n",
    "\n",
    "-   Total de emails: **50,000**\n",
    "-   Base rate de phishing: **15%**\n",
    "    -   Phishing: **7,500 emails**\n",
    "    -   Legítimos: **42,500 emails**\n",
    "\n",
    "####  **Cálculo de True Positives (TP) y False Negatives (FN)**\n",
    "\n",
    "-   Recall del modelo (86%):\n",
    "    -   **TP (detectados correctamente)** = 86% de 7,500 → **6,450 phishing detectados**\n",
    "    -   **FN (pasaron desapercibidos)** = 7,500 - 6,450 → **1,050 phishing no detectados**\n",
    "\n",
    "####  **Cálculo de False Positives (FP) y True Negatives (TN)**\n",
    "\n",
    "-   Recall para sitios legítimos (70%) → Indica que el modelo detecta correctamente el 70% de los correos legítimos.\n",
    "    -   **TN (legítimos detectados correctamente)** = 70% de 42,500 → **29,750 emails legítimos bien clasificados**\n",
    "    -   **FP (falsas alarmas, es decir, emails legítimos marcados como phishing)** = 30% de 42,500 → **12,750 falsas alarmas**"
   ]
  },
  {
   "cell_type": "markdown",
   "metadata": {},
   "source": [
    "¿Funciona el modelo para este base rate del 15%?\n",
    "No del todo, \n",
    "- Genera demasiadas falsas alarmas (12,750 emails legítimos marcados como phishing), lo que sobrecarga al equipo de seguridad.\n",
    "- Aún deja pasar phishing (1,050 emails maliciosos no detectados), lo que representa un riesgo.\n",
    "\n",
    "¿Cómo reducir la cantidad de falsas alarmas?\n",
    "- Aumentar la especificidad \n",
    "    - Ajustar el umbral del modelo para reducir falsos positivos.\n",
    "    - Usar técnicas como calibración de probabilidades para mejorar la confiabilidad del modelo.\n",
    "- Aplicar un segundo filtro\n",
    "    - Utilizar otro modelo con alta precisión antes de marcar un email como phishing.\n",
    "    - Implementar reglas heurísticas adicionales (por ejemplo, verificar si la URL contiene dominios sospechosos o si el correo proviene de un remitente confiable).\n",
    "\n",
    "- Uso de listas blancas\n",
    "    - Mantener una base de datos de emails y dominios confiables para reducir las falsas alarmas."
   ]
  }
 ],
 "metadata": {
  "kernelspec": {
   "display_name": ".venv",
   "language": "python",
   "name": "python3"
  },
  "language_info": {
   "codemirror_mode": {
    "name": "ipython",
    "version": 3
   },
   "file_extension": ".py",
   "mimetype": "text/x-python",
   "name": "python",
   "nbconvert_exporter": "python",
   "pygments_lexer": "ipython3",
   "version": "3.13.0"
  }
 },
 "nbformat": 4,
 "nbformat_minor": 2
}
